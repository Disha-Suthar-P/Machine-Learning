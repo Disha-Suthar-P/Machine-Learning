{
 "cells": [
  {
   "cell_type": "markdown",
   "metadata": {
    "id": "lFS254VIER58"
   },
   "source": [
    "## **Question 1**\n",
    "\n"
   ]
  },
  {
   "cell_type": "markdown",
   "metadata": {},
   "source": [
    "Number of Multiplications= n * k * m\n",
    "\n",
    "Number of Addition= n * (k-1) * m"
   ]
  },
  {
   "cell_type": "markdown",
   "metadata": {},
   "source": [
    "## **Question 2**"
   ]
  },
  {
   "cell_type": "markdown",
   "metadata": {
    "id": "qH2XlX7FER5_"
   },
   "source": [
    "### Part 1 Using Lists"
   ]
  },
  {
   "cell_type": "code",
   "execution_count": 3,
   "metadata": {
    "id": "nfmUh300P3uX"
   },
   "outputs": [],
   "source": [
    "import time"
   ]
  },
  {
   "cell_type": "code",
   "execution_count": 4,
   "metadata": {
    "colab": {
     "base_uri": "https://localhost:8080/"
    },
    "id": "j3Z4w8liER6A",
    "outputId": "f298b8bc-4a2d-4ff3-bd13-5984967fc914"
   },
   "outputs": [
    {
     "data": {
      "text/plain": [
       "[[0, 0, 0], [0, 0, 0], [0, 0, 0]]"
      ]
     },
     "execution_count": 4,
     "metadata": {},
     "output_type": "execute_result"
    }
   ],
   "source": [
    "list1=[[1,2],\n",
    "        [ 4,5],\n",
    "        [ 7,8]]\n",
    "\n",
    "list2=[[9,8,7],\n",
    "        [ 6,5,4]]\n",
    "\n",
    "matMul=[[0]*len(list2[0]) for _ in range( len(list1))]\n",
    "matMul"
   ]
  },
  {
   "cell_type": "markdown",
   "metadata": {},
   "source": []
  },
  {
   "cell_type": "code",
   "execution_count": null,
   "metadata": {
    "id": "2fA4SDjTER6B"
   },
   "outputs": [],
   "source": [
    "# list1=[[1,2,3],\n",
    "#         [ 4,5,6]]   #2x3 list\n",
    "\n",
    "# list2=[[9,8],\n",
    "#         [ 6,5],\n",
    "#         [ 3,2]]     #3x2 list\n",
    "\n",
    "# matMul=[[0]*len(list2[0])]\n",
    "# print(matMul)\n",
    "# matMul*=len(list1)\n",
    "# matMul"
   ]
  },
  {
   "cell_type": "code",
   "execution_count": 3,
   "metadata": {
    "colab": {
     "base_uri": "https://localhost:8080/"
    },
    "id": "Mrt1qOx4ER6C",
    "outputId": "2b7d8e92-f2e6-40eb-b91a-c0691fa7b1b8"
   },
   "outputs": [
    {
     "name": "stdout",
     "output_type": "stream",
     "text": [
      "Time taken for multiplication is 0.00034427642822265625 seconds\n"
     ]
    },
    {
     "data": {
      "text/plain": [
       "[[21, 18, 15], [66, 57, 48], [111, 96, 81]]"
      ]
     },
     "execution_count": 3,
     "metadata": {},
     "output_type": "execute_result"
    }
   ],
   "source": [
    "start=time.time()\n",
    "for i in range(0,len(matMul)):\n",
    "    for j in range(0,len(matMul[0])):\n",
    "        temp_sum=0\n",
    "        for k in range(len(list1[0])):\n",
    "            temp_sum+=list1[i][k]*list2[k][j]\n",
    "        matMul[i][j]=temp_sum\n",
    "end=time.time()\n",
    "\n",
    "print('Time taken for multiplication is',end-start,'seconds')\n",
    "matMul"
   ]
  },
  {
   "cell_type": "markdown",
   "metadata": {
    "id": "5OW1oq0FER6D"
   },
   "source": [
    "### Part 2 using numpy"
   ]
  },
  {
   "cell_type": "code",
   "execution_count": 6,
   "metadata": {
    "id": "Eq9HNL4sER6D"
   },
   "outputs": [],
   "source": [
    "import numpy as np"
   ]
  },
  {
   "cell_type": "code",
   "execution_count": 7,
   "metadata": {
    "colab": {
     "base_uri": "https://localhost:8080/"
    },
    "id": "WdoKYW7tER6D",
    "outputId": "fca2e1eb-83e3-45e3-b69a-29b9feb135b8"
   },
   "outputs": [
    {
     "name": "stdout",
     "output_type": "stream",
     "text": [
      "Time taken for multiplication is 0.0 seconds\n"
     ]
    },
    {
     "data": {
      "text/plain": [
       "array([[ 21,  18,  15],\n",
       "       [ 66,  57,  48],\n",
       "       [111,  96,  81]])"
      ]
     },
     "execution_count": 7,
     "metadata": {},
     "output_type": "execute_result"
    }
   ],
   "source": [
    "arr1=np.array([ [1,2],\n",
    "                        [ 4,5],\n",
    "                        [ 7,8]])\n",
    "\n",
    "arr2=np.array([[9,8,7],\n",
    "                        [ 6,5,4]])\n",
    "\n",
    "start=time.time()\n",
    "matMul=arr1.dot(arr2)\n",
    "end=time.time()\n",
    "print('Time taken for multiplication is',end-start,'seconds')\n",
    "matMul"
   ]
  },
  {
   "cell_type": "markdown",
   "metadata": {},
   "source": [
    "Hence numpy is fast as compare to previous one method."
   ]
  },
  {
   "cell_type": "markdown",
   "metadata": {},
   "source": [
    "## **Question 3**"
   ]
  },
  {
   "cell_type": "code",
   "execution_count": 13,
   "metadata": {},
   "outputs": [
    {
     "name": "stdin",
     "output_type": "stream",
     "text": [
      "Enter inputs 1 5 2 4 6 3\n"
     ]
    }
   ],
   "source": [
    "num_list=[float(x) for x in input(\"Enter inputs\").split()]"
   ]
  },
  {
   "cell_type": "markdown",
   "metadata": {},
   "source": [
    "Finding Median with Pass(Method 1)"
   ]
  },
  {
   "cell_type": "code",
   "execution_count": 16,
   "metadata": {},
   "outputs": [
    {
     "name": "stdout",
     "output_type": "stream",
     "text": [
      "[6.0, 5.0, 4.0, 3.0]\n",
      "Median is: 3.5\n"
     ]
    }
   ],
   "source": [
    "n=len(num_list)\n",
    "if n%2==0:\n",
    "    list_len=n//2-1\n",
    "else:\n",
    "    list_len=n//2\n",
    "median=[]\n",
    "temp=num_list.copy()\n",
    "while len(temp)>list_len:\n",
    "    max_t=temp[0]\n",
    "    j=1\n",
    "    while j<len(temp):\n",
    "        if max_t<temp[j]:\n",
    "            max_t=temp[j]\n",
    "        j+=1\n",
    "    temp.remove(max_t)\n",
    "    median+=[max_t]\n",
    "print(median)\n",
    "\n",
    "if n%2==0:\n",
    "    print(\"Median is:\",(median[-1]+median[-2])/2)\n",
    "else:\n",
    "    print(\"Median is:\",median[-1])"
   ]
  },
  {
   "cell_type": "markdown",
   "metadata": {},
   "source": [
    "Finding Median with Sorting(Method 2)"
   ]
  },
  {
   "cell_type": "code",
   "execution_count": 9,
   "metadata": {},
   "outputs": [
    {
     "name": "stdin",
     "output_type": "stream",
     "text": [
      "Enter inputs 3 4 2 1 5\n"
     ]
    }
   ],
   "source": [
    "num_list=[float(x) for x in input(\"Enter inputs\").split()]"
   ]
  },
  {
   "cell_type": "code",
   "execution_count": 13,
   "metadata": {},
   "outputs": [],
   "source": [
    "num_list.sort()\n",
    "num_list\n",
    "n=len(num_list)"
   ]
  },
  {
   "cell_type": "code",
   "execution_count": 14,
   "metadata": {},
   "outputs": [
    {
     "name": "stdout",
     "output_type": "stream",
     "text": [
      "3.0\n"
     ]
    }
   ],
   "source": [
    "if n%2==0:\n",
    "    print((num_list[n//2]+num_list[n//2-1])/2)\n",
    "else:\n",
    "    print(num_list[n//2])\n",
    "    "
   ]
  },
  {
   "cell_type": "markdown",
   "metadata": {},
   "source": [
    "Finding Median using numpy.median"
   ]
  },
  {
   "cell_type": "code",
   "execution_count": 16,
   "metadata": {},
   "outputs": [],
   "source": [
    "import numpy as np\n"
   ]
  },
  {
   "cell_type": "code",
   "execution_count": 17,
   "metadata": {},
   "outputs": [
    {
     "name": "stdin",
     "output_type": "stream",
     "text": [
      "Enter 3 4 1 2 5\n"
     ]
    }
   ],
   "source": [
    "numpy_list=[float(x) for x in input(\"Enter\").split()]\n"
   ]
  },
  {
   "cell_type": "code",
   "execution_count": 18,
   "metadata": {},
   "outputs": [
    {
     "data": {
      "text/plain": [
       "3.0"
      ]
     },
     "execution_count": 18,
     "metadata": {},
     "output_type": "execute_result"
    }
   ],
   "source": [
    "np.median(numpy_list)"
   ]
  },
  {
   "cell_type": "markdown",
   "metadata": {},
   "source": [
    "## **Question 4**"
   ]
  },
  {
   "cell_type": "markdown",
   "metadata": {},
   "source": [
    "$$\n",
    "x^2 + 3y^2 \\sin(x)\r",
    "$$\n"
   ]
  },
  {
   "cell_type": "markdown",
   "metadata": {},
   "source": [
    "$$\n",
    "2xy + y^3 \\cos(x)\r",
    "$$\n"
   ]
  },
  {
   "cell_type": "markdown",
   "metadata": {
    "id": "D6dwQZjZER6E"
   },
   "source": [
    "## Question 5"
   ]
  },
  {
   "cell_type": "markdown",
   "metadata": {
    "id": "rudWVCcEP3ub"
   },
   "source": [
    "### JAX"
   ]
  },
  {
   "cell_type": "code",
   "execution_count": 41,
   "metadata": {
    "id": "Tzq2rfsDER6E"
   },
   "outputs": [],
   "source": [
    "import jax\n",
    "import jax.numpy as jnp"
   ]
  },
  {
   "cell_type": "code",
   "execution_count": null,
   "metadata": {
    "id": "VfEwRLYJER6F"
   },
   "outputs": [],
   "source": [
    "def f(x, y):\n",
    "    return x**2 * y + y**3 * jnp.sin(x)\n",
    "\n",
    "der_x = jax.grad(f, argnums=0)\n",
    "der_y = jax.grad(f, argnums=1)"
   ]
  },
  {
   "cell_type": "code",
   "execution_count": null,
   "metadata": {
    "colab": {
     "base_uri": "https://localhost:8080/"
    },
    "id": "6jwPIzUNEurW",
    "outputId": "59462e28-ca1b-410a-f596-0d9fc25d673e"
   },
   "outputs": [
    {
     "name": "stdout",
     "output_type": "stream",
     "text": [
      "-19.921383\n",
      "59.23982\n"
     ]
    }
   ],
   "source": [
    "x=2.0\n",
    "y=4.5\n",
    "print(der_x(x,y))\n",
    "print(der_y(x,y))"
   ]
  },
  {
   "cell_type": "markdown",
   "metadata": {
    "id": "IU-e3cRQP3uc"
   },
   "source": [
    "## Question 6"
   ]
  },
  {
   "cell_type": "markdown",
   "metadata": {
    "id": "Sr9acjSIP3uc"
   },
   "source": [
    "### sympy"
   ]
  },
  {
   "cell_type": "code",
   "execution_count": null,
   "metadata": {
    "id": "kQNQPpmuE8b7"
   },
   "outputs": [],
   "source": [
    "import sympy as sp"
   ]
  },
  {
   "cell_type": "code",
   "execution_count": null,
   "metadata": {
    "id": "pUSueVr9P3ud"
   },
   "outputs": [],
   "source": [
    "x,y=sp.symbols('x y')\n",
    "exp=x**2 * y + y**3 * sp.sin(x)\n",
    "der_x=sp.diff(exp,x)\n",
    "der_y=sp.diff(exp,y)"
   ]
  },
  {
   "cell_type": "code",
   "execution_count": null,
   "metadata": {
    "id": "J-5sAzcSP3ud",
    "outputId": "3856a011-4d59-48da-abe4-682f1e3e1a17"
   },
   "outputs": [
    {
     "name": "stdout",
     "output_type": "stream",
     "text": [
      "2*x*y + y**3*cos(x)\n",
      "x**2 + 3*y**2*sin(x)\n"
     ]
    }
   ],
   "source": [
    "print(der_x)\n",
    "print(der_y)"
   ]
  },
  {
   "cell_type": "markdown",
   "metadata": {},
   "source": [
    "## **Question 7**"
   ]
  },
  {
   "cell_type": "code",
   "execution_count": 21,
   "metadata": {},
   "outputs": [
    {
     "data": {
      "text/plain": [
       "{'2022': {'branch_1': {'Roll_No': 1,\n",
       "   'Name': 'Disha',\n",
       "   'Marks': {'Machine Learning': 100, 'Linear Algebra': 98}},\n",
       "  'branch_2': {'Roll_No': 2,\n",
       "   'Name': 'Rabina',\n",
       "   'Marks': {'Algo': 100, 'Applied State': 99}}},\n",
       " '2023': {'branch_1': {'Roll_No': 11,\n",
       "   'Name': 'Shataxi',\n",
       "   'Marks': {'Computer System': 97, 'Linear Algebra': 98}},\n",
       "  'branch_2': {'Roll_No': 12,\n",
       "   'Name': 'Anshika',\n",
       "   'Marks': {'Computer System': 95, 'Distributed System': 98}}},\n",
       " '2024': {'branch_1': {'Roll_No': 21,\n",
       "   'Name': 'Maitri',\n",
       "   'Marks': {'Machine Learning': 100, 'Linear Algebra': 98}},\n",
       "  'branch_2': {'Roll_No': 22,\n",
       "   'Name': 'Riya',\n",
       "   'Marks': {'Algo': 100, 'Applied State': 99}}},\n",
       " '2025': {'branch_1': {'Roll_No': 31,\n",
       "   'Name': 'Rucha',\n",
       "   'Marks': {'Machine Learning': 100, 'Linear Algebra': 98}},\n",
       "  'branch_2': {'Roll_No': 32,\n",
       "   'Name': 'Shipra',\n",
       "   'Marks': {'Algo': 100, 'Applied State': 99}}}}"
      ]
     },
     "execution_count": 21,
     "metadata": {},
     "output_type": "execute_result"
    }
   ],
   "source": [
    "dict1={\"2022\":{\"branch_1\":{\"Roll_No\":1,\"Name\":'Disha',\"Marks\":{\"Machine Learning\":100,\"Linear Algebra\":98}},\n",
    "\n",
    "              \"branch_2\":{\"Roll_No\":2,\"Name\":'Rabina',\"Marks\":{\"Algo\":100,\"Applied State\":99}}},\n",
    "\n",
    "       \"2023\":{\"branch_1\":{\"Roll_No\":11,\"Name\":'Shataxi',\"Marks\":{\"Computer System\":97,\"Linear Algebra\":98}},\n",
    "\n",
    "              \"branch_2\":{\"Roll_No\":12,\"Name\":'Anshika',\"Marks\":{\"Computer System\":95,\"Distributed System\":98}}},\n",
    "\n",
    "       \"2024\":{\"branch_1\":{\"Roll_No\":21,\"Name\":'Maitri',\"Marks\":{\"Machine Learning\":100,\"Linear Algebra\":98}},\n",
    "\n",
    "              \"branch_2\":{\"Roll_No\":22,\"Name\":'Riya',\"Marks\":{\"Algo\":100,\"Applied State\":99}}},\n",
    "\n",
    "       \"2025\":{\"branch_1\":{\"Roll_No\":31,\"Name\":'Rucha',\"Marks\":{\"Machine Learning\":100,\"Linear Algebra\":98}},\n",
    "\n",
    "              \"branch_2\":{\"Roll_No\":32,\"Name\":'Shipra',\"Marks\":{\"Algo\":100,\"Applied State\":99}}}\n",
    "       }\n",
    "dict1"
   ]
  },
  {
   "cell_type": "markdown",
   "metadata": {
    "id": "dS8-mekWP3ud"
   },
   "source": [
    "## Question 8"
   ]
  },
  {
   "cell_type": "markdown",
   "metadata": {
    "id": "nVX4XLYUP3ud"
   },
   "source": [
    "### Class"
   ]
  },
  {
   "cell_type": "code",
   "execution_count": 22,
   "metadata": {
    "id": "ybSoR-hvP3ud"
   },
   "outputs": [],
   "source": [
    "class Student:\n",
    "    def __init__(self, year, branch, rollNo, name, **subjectWithMakrs):\n",
    "        self.year=year\n",
    "        self.branch=branch\n",
    "        self.rollNo=rollNo\n",
    "        self.name=name\n",
    "        self.subjectWithMakrs=subjectWithMakrs\n",
    "\n",
    "    def __str__(self):\n",
    "        return f\"Name: {self.name}, \\nRoll No: {self.rollNo}, \\nBranch: {self.branch}, \\nYear: {self.year}, \\nSubjects: {self.subjectWithMakrs}\""
   ]
  },
  {
   "cell_type": "code",
   "execution_count": 40,
   "metadata": {},
   "outputs": [
    {
     "name": "stdout",
     "output_type": "stream",
     "text": [
      "Name: Disha, \n",
      "Roll No: 1, \n",
      "Branch: CS, \n",
      "Year: 2022, \n",
      "Subjects: {'Maths': 100, 'LA': 98}\n",
      "__________________________________________\n",
      "Name: Maitri, \n",
      "Roll No: 1, \n",
      "Branch: CS, \n",
      "Year: 2023, \n",
      "Subjects: {'Maths': 100, 'LA': 97}\n"
     ]
    }
   ],
   "source": [
    "std1=Student(2022,\"CS\",1,\"Disha\",Maths=100,LA=98)\n",
    "std2=Student(2023,\"CS\",1,\"Maitri\",Maths=100,LA=97)\n",
    "print(std1.__str__())\n",
    "print(\"__________________________________________\")\n",
    "print(std2.__str__())"
   ]
  },
  {
   "cell_type": "markdown",
   "metadata": {
    "id": "Rll6O8l7P3ue"
   },
   "source": [
    "## Question 9"
   ]
  },
  {
   "cell_type": "markdown",
   "metadata": {
    "id": "H2seZFSIP3ue"
   },
   "source": [
    "### Matplotlib"
   ]
  },
  {
   "cell_type": "code",
   "execution_count": null,
   "metadata": {
    "id": "sFtgboCQP3ue"
   },
   "outputs": [],
   "source": [
    "import matplotlib.pyplot as plt"
   ]
  },
  {
   "cell_type": "code",
   "execution_count": null,
   "metadata": {
    "id": "-g0UaoF3P3ue",
    "outputId": "cca268c9-085a-4eb6-e756-19962930d1c3"
   },
   "outputs": [
    {
     "name": "stdout",
     "output_type": "stream",
     "text": [
      "0.5, 1.0, 1.5, 2.0, 2.5, 3.0, 3.5, 4.0, 4.5, 5.0, 5.5, 6.0, 6.5, 7.0, 7.5, 8.0, 8.5, 9.0, 9.5, 10.0, 10.5, 11.0, 11.5, 12.0, 12.5, 13.0, 13.5, 14.0, 14.5, 15.0, 15.5, 16.0, 16.5, 17.0, 17.5, 18.0, 18.5, 19.0, 19.5, 20.0, 20.5, 21.0, 21.5, 22.0, 22.5, 23.0, 23.5, 24.0, 24.5, 25.0, 25.5, 26.0, 26.5, 27.0, 27.5, 28.0, 28.5, 29.0, 29.5, 30.0, 30.5, 31.0, 31.5, 32.0, 32.5, 33.0, 33.5, 34.0, 34.5, 35.0, 35.5, 36.0, 36.5, 37.0, 37.5, 38.0, 38.5, 39.0, 39.5, 40.0, 40.5, 41.0, 41.5, 42.0, 42.5, 43.0, 43.5, 44.0, 44.5, 45.0, 45.5, 46.0, 46.5, 47.0, 47.5, 48.0, 48.5, 49.0, 49.5, 50.0, 50.5, 51.0, 51.5, 52.0, 52.5, 53.0, 53.5, 54.0, 54.5, 55.0, 55.5, 56.0, 56.5, 57.0, 57.5, 58.0, 58.5, 59.0, 59.5, 60.0, 60.5, 61.0, 61.5, 62.0, 62.5, 63.0, 63.5, 64.0, 64.5, 65.0, 65.5, 66.0, 66.5, 67.0, 67.5, 68.0, 68.5, 69.0, 69.5, 70.0, 70.5, 71.0, 71.5, 72.0, 72.5, 73.0, 73.5, 74.0, 74.5, 75.0, 75.5, 76.0, 76.5, 77.0, 77.5, 78.0, 78.5, 79.0, 79.5, 80.0, 80.5, 81.0, 81.5, 82.0, 82.5, 83.0, 83.5, 84.0, 84.5, 85.0, 85.5, 86.0, 86.5, 87.0, 87.5, 88.0, 88.5, 89.0, 89.5, 90.0, 90.5, 91.0, 91.5, 92.0, 92.5, 93.0, 93.5, 94.0, 94.5, 95.0, 95.5, 96.0, 96.5, 97.0, 97.5, 98.0, 98.5, 99.0, 99.5, 100.0, "
     ]
    }
   ],
   "source": [
    "x=[i/10 for i in range(5,1001,5)]\n",
    "for i in x:\n",
    "    print(f'{i}, ',end='')"
   ]
  },
  {
   "cell_type": "markdown",
   "metadata": {
    "id": "kHHt7gwFP3ue"
   },
   "source": [
    "#### y=x"
   ]
  },
  {
   "cell_type": "code",
   "execution_count": null,
   "metadata": {
    "id": "1HbL_MXSP3ue",
    "outputId": "5c6cc877-46bc-451c-d760-6f4dce2b20c5"
   },
   "outputs": [
    {
     "data": {
      "image/png": "[encoded data removed]",
      "text/plain": [
       "<Figure size 640x480 with 1 Axes>"
      ]
     },
     "metadata": {},
     "output_type": "display_data"
    }
   ],
   "source": [
    "y=x\n",
    "plt.plot(x,y, label='y=x Line')\n",
    "plt.xlabel('x')\n",
    "plt.ylabel('y')\n",
    "plt.legend()\n",
    "plt.show()"
   ]
  },
  {
   "cell_type": "markdown",
   "metadata": {
    "id": "eh7QKUkVP3ue"
   },
   "source": [
    "#### y=x^2"
   ]
  },
  {
   "cell_type": "code",
   "execution_count": null,
   "metadata": {
    "id": "kPvR0jiYP3ue",
    "outputId": "e0d64191-ace5-42e9-81a1-4974c3fe96d8"
   },
   "outputs": [
    {
     "data": {
      "image/png": "[encoded data removed]",
      "text/plain": [
       "<Figure size 640x480 with 1 Axes>"
      ]
     },
     "metadata": {},
     "output_type": "display_data"
    }
   ],
   "source": [
    "y=[i*i for i in x]\n",
    "plt.plot(x,y, label='y=x^2 Line')\n",
    "plt.xlabel('x')\n",
    "plt.ylabel('y')\n",
    "plt.legend()\n",
    "plt.show()"
   ]
  },
  {
   "cell_type": "markdown",
   "metadata": {
    "id": "NpGU5AdhP3uf"
   },
   "source": [
    "#### y=x^3/100"
   ]
  },
  {
   "cell_type": "code",
   "execution_count": null,
   "metadata": {
    "id": "WKCBHr2BP3uf",
    "outputId": "afaac7a9-1cae-4cdf-a3eb-f6f0f8b5d495"
   },
   "outputs": [
    {
     "data": {
      "image/png": "[encoded data removed]",
      "text/plain": [
       "<Figure size 640x480 with 1 Axes>"
      ]
     },
     "metadata": {},
     "output_type": "display_data"
    }
   ],
   "source": [
    "y=[i**3/100 for i in x]\n",
    "plt.plot(x,y, label='y=x^3/100 Line')\n",
    "plt.xlabel('x')\n",
    "plt.ylabel('y')\n",
    "plt.legend()\n",
    "plt.show()"
   ]
  },
  {
   "cell_type": "markdown",
   "metadata": {
    "id": "GK8JJLRXP3uf"
   },
   "source": [
    "#### y=sin(x)"
   ]
  },
  {
   "cell_type": "code",
   "execution_count": null,
   "metadata": {
    "id": "xUC6DTOJP3uf"
   },
   "outputs": [],
   "source": [
    "import math"
   ]
  },
  {
   "cell_type": "code",
   "execution_count": null,
   "metadata": {
    "id": "y2OQlMWLP3uf",
    "outputId": "a6b3988d-ae9e-473c-e514-fb30c0beb815"
   },
   "outputs": [
    {
     "data": {
      "image/png": "[encoded data removed]",
      "text/plain": [
       "<Figure size 640x480 with 1 Axes>"
      ]
     },
     "metadata": {},
     "output_type": "display_data"
    }
   ],
   "source": [
    "y=[math.sin(i) for i in x]\n",
    "plt.plot(x,y, label='y=sin(x) Line')\n",
    "plt.xlabel('x')\n",
    "plt.ylabel('y')\n",
    "plt.ylim(-1.5,1.5)\n",
    "plt.xticks(range(0,101,10))\n",
    "plt.legend()\n",
    "plt.show()"
   ]
  },
  {
   "cell_type": "markdown",
   "metadata": {
    "id": "TPveF-WfP3uf"
   },
   "source": [
    "#### y=sin(x)/x"
   ]
  },
  {
   "cell_type": "code",
   "execution_count": null,
   "metadata": {
    "id": "QjqxiEY9P3ug",
    "outputId": "53e56d81-6e55-48a2-ada7-1adb371ce588"
   },
   "outputs": [
    {
     "data": {
      "image/png": "[encoded data removed]",
      "text/plain": [
       "<Figure size 640x480 with 1 Axes>"
      ]
     },
     "metadata": {},
     "output_type": "display_data"
    }
   ],
   "source": [
    "y=[math.sin(i)/i for i in x]\n",
    "plt.plot(x,y, label='y=sin(x)/x Line')\n",
    "plt.xlabel('x')\n",
    "plt.ylabel('y')\n",
    "plt.xticks(range(0,101,10))\n",
    "plt.legend()\n",
    "plt.show()"
   ]
  },
  {
   "cell_type": "markdown",
   "metadata": {
    "id": "LFnWvJa7P3ug"
   },
   "source": [
    "#### y=log(x)"
   ]
  },
  {
   "cell_type": "code",
   "execution_count": null,
   "metadata": {
    "id": "OMJEWfFhP3ug",
    "outputId": "29e91eef-1306-415d-d4d5-0e1e91acd4cf"
   },
   "outputs": [
    {
     "data": {
      "image/png": "[encoded data removed]",
      "text/plain": [
       "<Figure size 640x480 with 1 Axes>"
      ]
     },
     "metadata": {},
     "output_type": "display_data"
    }
   ],
   "source": [
    "y=[math.log(i) for i in x]\n",
    "plt.plot(x,y, label='y=log(x) Line')\n",
    "plt.xlabel('x')\n",
    "plt.ylabel('y')\n",
    "plt.legend()\n",
    "plt.show()"
   ]
  },
  {
   "cell_type": "markdown",
   "metadata": {
    "id": "UKs0hz4AP3uk"
   },
   "source": [
    "#### y=e^x"
   ]
  },
  {
   "cell_type": "code",
   "execution_count": null,
   "metadata": {
    "id": "xcInmbI8P3uk",
    "outputId": "cc55c013-c4c4-4dfd-8920-08934d2e1a3e"
   },
   "outputs": [
    {
     "data": {
      "image/png": "[encoded data removed]",
      "text/plain": [
       "<Figure size 640x480 with 1 Axes>"
      ]
     },
     "metadata": {},
     "output_type": "display_data"
    }
   ],
   "source": [
    "y=[math.e**i for i in x]\n",
    "plt.plot(x,y, label='y=e^x Line')\n",
    "plt.xlabel('x')\n",
    "plt.ylabel('y')\n",
    "plt.legend()\n",
    "plt.show()"
   ]
  },
  {
   "cell_type": "code",
   "execution_count": null,
   "metadata": {
    "id": "pgcG-YJMP3uk",
    "outputId": "f1ac67dd-65f3-44b7-8a77-a19da5265a29"
   },
   "outputs": [
    {
     "data": {
      "image/png": "[encoded data removed]",
      "text/plain": [
       "<Figure size 640x480 with 1 Axes>"
      ]
     },
     "metadata": {},
     "output_type": "display_data"
    }
   ],
   "source": [
    "t=x[:20]     #t is for first 20 points as exponential function grows very fast\n",
    "y=[math.e**i for i in t]\n",
    "plt.plot(t,y, label='y=e^x Line')\n",
    "plt.xlabel('x')\n",
    "plt.ylabel('y')\n",
    "plt.legend()\n",
    "plt.show()"
   ]
  },
  {
   "cell_type": "markdown",
   "metadata": {
    "id": "B_a1Gf5vP3uk"
   },
   "source": [
    "## Question 10"
   ]
  },
  {
   "cell_type": "markdown",
   "metadata": {
    "id": "WnK6MXdTP3ul"
   },
   "source": [
    "### Part 1 numpy uniform random matrix"
   ]
  },
  {
   "cell_type": "code",
   "execution_count": 53,
   "metadata": {
    "id": "A7dKJ92WP3ul"
   },
   "outputs": [],
   "source": [
    "import numpy as np\n",
    "import pandas as pd"
   ]
  },
  {
   "cell_type": "code",
   "execution_count": 54,
   "metadata": {
    "id": "58ClyoQGP3ul",
    "outputId": "bccbf114-9632-478c-890f-2e669cda40b9"
   },
   "outputs": [
    {
     "data": {
      "text/plain": [
       "array([[1.43631618, 1.27740702, 1.75423289, 1.69217285, 1.06364509],\n",
       "       [1.44278918, 1.27056839, 1.38099957, 1.13781085, 1.85855046],\n",
       "       [1.04468498, 1.56690851, 1.3770611 , 1.36082775, 1.9782756 ],\n",
       "       [1.19867857, 1.52977558, 1.17079247, 1.66770833, 1.00612918],\n",
       "       [1.76327406, 1.64306825, 1.15901748, 1.08658505, 1.46729574],\n",
       "       [1.64842032, 1.73710185, 1.45134949, 1.02020584, 1.51922658],\n",
       "       [1.05950508, 1.1626611 , 1.62792135, 1.6991036 , 1.46995962],\n",
       "       [1.33739782, 1.70997846, 1.56015475, 1.13685458, 1.33594047],\n",
       "       [1.62720238, 1.95573443, 1.38275944, 1.63134831, 1.23961024],\n",
       "       [1.03644824, 1.30957873, 1.94411729, 1.65724432, 1.67720281],\n",
       "       [1.68116799, 1.08685552, 1.24713848, 1.36053605, 1.58034219],\n",
       "       [1.69255165, 1.35693287, 1.06460061, 1.87537412, 1.76094843],\n",
       "       [1.9630773 , 1.41394507, 1.33789738, 1.486183  , 1.39089222],\n",
       "       [1.60215184, 1.45235809, 1.88317812, 1.66235321, 1.5074431 ],\n",
       "       [1.03537528, 1.90759446, 1.85397381, 1.61696898, 1.50442437],\n",
       "       [1.1423194 , 1.67556308, 1.36945733, 1.26132971, 1.29131123],\n",
       "       [1.21350818, 1.1297702 , 1.82694746, 1.69231389, 1.41684817],\n",
       "       [1.03302555, 1.7434727 , 1.91987507, 1.32493552, 1.22169309],\n",
       "       [1.29011194, 1.68691837, 1.52704469, 1.11853652, 1.67575198],\n",
       "       [1.93105362, 1.67482485, 1.88488568, 1.1913901 , 1.58340684]])"
      ]
     },
     "execution_count": 54,
     "metadata": {},
     "output_type": "execute_result"
    }
   ],
   "source": [
    "mat=np.random.uniform(1.0,2.0,size=(20,5))\n",
    "mat"
   ]
  },
  {
   "cell_type": "markdown",
   "metadata": {
    "id": "mUsx4DhMP3ul"
   },
   "source": [
    "### Part 2, pandas to create dataframe from this matrix"
   ]
  },
  {
   "cell_type": "code",
   "execution_count": 55,
   "metadata": {
    "id": "acqIOB_CP3ul",
    "outputId": "ccf303bf-82c9-4081-fc9d-5c4a89a97609"
   },
   "outputs": [
    {
     "data": {
      "text/html": [
       "<div>\n",
       "<style scoped>\n",
       "    .dataframe tbody tr th:only-of-type {\n",
       "        vertical-align: middle;\n",
       "    }\n",
       "\n",
       "    .dataframe tbody tr th {\n",
       "        vertical-align: top;\n",
       "    }\n",
       "\n",
       "    .dataframe thead th {\n",
       "        text-align: right;\n",
       "    }\n",
       "</style>\n",
       "<table border=\"1\" class=\"dataframe\">\n",
       "  <thead>\n",
       "    <tr style=\"text-align: right;\">\n",
       "      <th></th>\n",
       "      <th>a</th>\n",
       "      <th>b</th>\n",
       "      <th>c</th>\n",
       "      <th>d</th>\n",
       "      <th>e</th>\n",
       "    </tr>\n",
       "  </thead>\n",
       "  <tbody>\n",
       "    <tr>\n",
       "      <th>0</th>\n",
       "      <td>1.436316</td>\n",
       "      <td>1.277407</td>\n",
       "      <td>1.754233</td>\n",
       "      <td>1.692173</td>\n",
       "      <td>1.063645</td>\n",
       "    </tr>\n",
       "    <tr>\n",
       "      <th>1</th>\n",
       "      <td>1.442789</td>\n",
       "      <td>1.270568</td>\n",
       "      <td>1.381000</td>\n",
       "      <td>1.137811</td>\n",
       "      <td>1.858550</td>\n",
       "    </tr>\n",
       "    <tr>\n",
       "      <th>2</th>\n",
       "      <td>1.044685</td>\n",
       "      <td>1.566909</td>\n",
       "      <td>1.377061</td>\n",
       "      <td>1.360828</td>\n",
       "      <td>1.978276</td>\n",
       "    </tr>\n",
       "    <tr>\n",
       "      <th>3</th>\n",
       "      <td>1.198679</td>\n",
       "      <td>1.529776</td>\n",
       "      <td>1.170792</td>\n",
       "      <td>1.667708</td>\n",
       "      <td>1.006129</td>\n",
       "    </tr>\n",
       "    <tr>\n",
       "      <th>4</th>\n",
       "      <td>1.763274</td>\n",
       "      <td>1.643068</td>\n",
       "      <td>1.159017</td>\n",
       "      <td>1.086585</td>\n",
       "      <td>1.467296</td>\n",
       "    </tr>\n",
       "    <tr>\n",
       "      <th>5</th>\n",
       "      <td>1.648420</td>\n",
       "      <td>1.737102</td>\n",
       "      <td>1.451349</td>\n",
       "      <td>1.020206</td>\n",
       "      <td>1.519227</td>\n",
       "    </tr>\n",
       "    <tr>\n",
       "      <th>6</th>\n",
       "      <td>1.059505</td>\n",
       "      <td>1.162661</td>\n",
       "      <td>1.627921</td>\n",
       "      <td>1.699104</td>\n",
       "      <td>1.469960</td>\n",
       "    </tr>\n",
       "    <tr>\n",
       "      <th>7</th>\n",
       "      <td>1.337398</td>\n",
       "      <td>1.709978</td>\n",
       "      <td>1.560155</td>\n",
       "      <td>1.136855</td>\n",
       "      <td>1.335940</td>\n",
       "    </tr>\n",
       "    <tr>\n",
       "      <th>8</th>\n",
       "      <td>1.627202</td>\n",
       "      <td>1.955734</td>\n",
       "      <td>1.382759</td>\n",
       "      <td>1.631348</td>\n",
       "      <td>1.239610</td>\n",
       "    </tr>\n",
       "    <tr>\n",
       "      <th>9</th>\n",
       "      <td>1.036448</td>\n",
       "      <td>1.309579</td>\n",
       "      <td>1.944117</td>\n",
       "      <td>1.657244</td>\n",
       "      <td>1.677203</td>\n",
       "    </tr>\n",
       "    <tr>\n",
       "      <th>10</th>\n",
       "      <td>1.681168</td>\n",
       "      <td>1.086856</td>\n",
       "      <td>1.247138</td>\n",
       "      <td>1.360536</td>\n",
       "      <td>1.580342</td>\n",
       "    </tr>\n",
       "    <tr>\n",
       "      <th>11</th>\n",
       "      <td>1.692552</td>\n",
       "      <td>1.356933</td>\n",
       "      <td>1.064601</td>\n",
       "      <td>1.875374</td>\n",
       "      <td>1.760948</td>\n",
       "    </tr>\n",
       "    <tr>\n",
       "      <th>12</th>\n",
       "      <td>1.963077</td>\n",
       "      <td>1.413945</td>\n",
       "      <td>1.337897</td>\n",
       "      <td>1.486183</td>\n",
       "      <td>1.390892</td>\n",
       "    </tr>\n",
       "    <tr>\n",
       "      <th>13</th>\n",
       "      <td>1.602152</td>\n",
       "      <td>1.452358</td>\n",
       "      <td>1.883178</td>\n",
       "      <td>1.662353</td>\n",
       "      <td>1.507443</td>\n",
       "    </tr>\n",
       "    <tr>\n",
       "      <th>14</th>\n",
       "      <td>1.035375</td>\n",
       "      <td>1.907594</td>\n",
       "      <td>1.853974</td>\n",
       "      <td>1.616969</td>\n",
       "      <td>1.504424</td>\n",
       "    </tr>\n",
       "    <tr>\n",
       "      <th>15</th>\n",
       "      <td>1.142319</td>\n",
       "      <td>1.675563</td>\n",
       "      <td>1.369457</td>\n",
       "      <td>1.261330</td>\n",
       "      <td>1.291311</td>\n",
       "    </tr>\n",
       "    <tr>\n",
       "      <th>16</th>\n",
       "      <td>1.213508</td>\n",
       "      <td>1.129770</td>\n",
       "      <td>1.826947</td>\n",
       "      <td>1.692314</td>\n",
       "      <td>1.416848</td>\n",
       "    </tr>\n",
       "    <tr>\n",
       "      <th>17</th>\n",
       "      <td>1.033026</td>\n",
       "      <td>1.743473</td>\n",
       "      <td>1.919875</td>\n",
       "      <td>1.324936</td>\n",
       "      <td>1.221693</td>\n",
       "    </tr>\n",
       "    <tr>\n",
       "      <th>18</th>\n",
       "      <td>1.290112</td>\n",
       "      <td>1.686918</td>\n",
       "      <td>1.527045</td>\n",
       "      <td>1.118537</td>\n",
       "      <td>1.675752</td>\n",
       "    </tr>\n",
       "    <tr>\n",
       "      <th>19</th>\n",
       "      <td>1.931054</td>\n",
       "      <td>1.674825</td>\n",
       "      <td>1.884886</td>\n",
       "      <td>1.191390</td>\n",
       "      <td>1.583407</td>\n",
       "    </tr>\n",
       "  </tbody>\n",
       "</table>\n",
       "</div>"
      ],
      "text/plain": [
       "           a         b         c         d         e\n",
       "0   1.436316  1.277407  1.754233  1.692173  1.063645\n",
       "1   1.442789  1.270568  1.381000  1.137811  1.858550\n",
       "2   1.044685  1.566909  1.377061  1.360828  1.978276\n",
       "3   1.198679  1.529776  1.170792  1.667708  1.006129\n",
       "4   1.763274  1.643068  1.159017  1.086585  1.467296\n",
       "5   1.648420  1.737102  1.451349  1.020206  1.519227\n",
       "6   1.059505  1.162661  1.627921  1.699104  1.469960\n",
       "7   1.337398  1.709978  1.560155  1.136855  1.335940\n",
       "8   1.627202  1.955734  1.382759  1.631348  1.239610\n",
       "9   1.036448  1.309579  1.944117  1.657244  1.677203\n",
       "10  1.681168  1.086856  1.247138  1.360536  1.580342\n",
       "11  1.692552  1.356933  1.064601  1.875374  1.760948\n",
       "12  1.963077  1.413945  1.337897  1.486183  1.390892\n",
       "13  1.602152  1.452358  1.883178  1.662353  1.507443\n",
       "14  1.035375  1.907594  1.853974  1.616969  1.504424\n",
       "15  1.142319  1.675563  1.369457  1.261330  1.291311\n",
       "16  1.213508  1.129770  1.826947  1.692314  1.416848\n",
       "17  1.033026  1.743473  1.919875  1.324936  1.221693\n",
       "18  1.290112  1.686918  1.527045  1.118537  1.675752\n",
       "19  1.931054  1.674825  1.884886  1.191390  1.583407"
      ]
     },
     "execution_count": 55,
     "metadata": {},
     "output_type": "execute_result"
    }
   ],
   "source": [
    "df = pd.DataFrame(mat, columns=['a','b','c','d','e'])\n",
    "df"
   ]
  },
  {
   "cell_type": "markdown",
   "metadata": {
    "id": "329ws7GyP3ul"
   },
   "source": [
    "### Part 3 find the column with highest std deviation"
   ]
  },
  {
   "cell_type": "code",
   "execution_count": 56,
   "metadata": {
    "id": "yLTvWaNIP3ul",
    "outputId": "1846a367-9edb-4acc-954d-ff085666f3a8"
   },
   "outputs": [
    {
     "name": "stdout",
     "output_type": "stream",
     "text": [
      "[0.30422933 0.24914678 0.2762912  0.2558324  0.24106016]\n"
     ]
    },
    {
     "data": {
      "text/plain": [
       "'a'"
      ]
     },
     "execution_count": 56,
     "metadata": {},
     "output_type": "execute_result"
    }
   ],
   "source": [
    "std_devs = np.std(mat, axis=0)\n",
    "print(std_devs)\n",
    "column = np.argmax(std_devs)\n",
    "df.columns[column]"
   ]
  },
  {
   "cell_type": "markdown",
   "metadata": {
    "id": "pNWe8_qBP3ul"
   },
   "source": [
    "### Part 4 find the row with lowest mean"
   ]
  },
  {
   "cell_type": "code",
   "execution_count": 57,
   "metadata": {
    "id": "184xRjXRP3um",
    "outputId": "b13e43bd-a382-4392-e8a7-34beade079be"
   },
   "outputs": [
    {
     "name": "stdout",
     "output_type": "stream",
     "text": [
      "[1.44475481 1.41814369 1.46555159 1.31461682 1.42384812 1.47526081\n",
      " 1.40383015 1.41606521 1.56733096 1.52491828 1.39120805 1.55008154\n",
      " 1.51839899 1.62149687 1.58366738 1.34799615 1.45587758 1.44860039\n",
      " 1.4596727  1.65311222]\n",
      "Row no.: 3\n",
      "\t\t\ta\t\t\tb\t\t\tc\t\t\td\t\t\te\n",
      "\t1.1986785672332414\t1.529775582448813\t1.1707924707414445\t1.6677083260426284\t1.0061291778086514"
     ]
    }
   ],
   "source": [
    "means = np.mean(mat, axis=1)\n",
    "print(means)\n",
    "row = np.argmin(means)\n",
    "print(f'Row no.: {row}')\n",
    "for i in df.columns:\n",
    "    print(f'\\t\\t\\t{i}',end='')\n",
    "print()\n",
    "for i in df.columns:\n",
    "    print(f'\\t{df[i][row]}',end='')"
   ]
  },
  {
   "cell_type": "markdown",
   "metadata": {},
   "source": [
    "## Question 11"
   ]
  },
  {
   "cell_type": "markdown",
   "metadata": {},
   "source": [
    "### Part 1 add column f to dataframe"
   ]
  },
  {
   "cell_type": "code",
   "execution_count": 58,
   "metadata": {
    "id": "MNmFKS4dP3um"
   },
   "outputs": [
    {
     "data": {
      "text/html": [
       "<div>\n",
       "<style scoped>\n",
       "    .dataframe tbody tr th:only-of-type {\n",
       "        vertical-align: middle;\n",
       "    }\n",
       "\n",
       "    .dataframe tbody tr th {\n",
       "        vertical-align: top;\n",
       "    }\n",
       "\n",
       "    .dataframe thead th {\n",
       "        text-align: right;\n",
       "    }\n",
       "</style>\n",
       "<table border=\"1\" class=\"dataframe\">\n",
       "  <thead>\n",
       "    <tr style=\"text-align: right;\">\n",
       "      <th></th>\n",
       "      <th>a</th>\n",
       "      <th>b</th>\n",
       "      <th>c</th>\n",
       "      <th>d</th>\n",
       "      <th>e</th>\n",
       "      <th>f</th>\n",
       "    </tr>\n",
       "  </thead>\n",
       "  <tbody>\n",
       "    <tr>\n",
       "      <th>0</th>\n",
       "      <td>1.436316</td>\n",
       "      <td>1.277407</td>\n",
       "      <td>1.754233</td>\n",
       "      <td>1.692173</td>\n",
       "      <td>1.063645</td>\n",
       "      <td>7.223774</td>\n",
       "    </tr>\n",
       "    <tr>\n",
       "      <th>1</th>\n",
       "      <td>1.442789</td>\n",
       "      <td>1.270568</td>\n",
       "      <td>1.381000</td>\n",
       "      <td>1.137811</td>\n",
       "      <td>1.858550</td>\n",
       "      <td>7.090718</td>\n",
       "    </tr>\n",
       "    <tr>\n",
       "      <th>2</th>\n",
       "      <td>1.044685</td>\n",
       "      <td>1.566909</td>\n",
       "      <td>1.377061</td>\n",
       "      <td>1.360828</td>\n",
       "      <td>1.978276</td>\n",
       "      <td>7.327758</td>\n",
       "    </tr>\n",
       "    <tr>\n",
       "      <th>3</th>\n",
       "      <td>1.198679</td>\n",
       "      <td>1.529776</td>\n",
       "      <td>1.170792</td>\n",
       "      <td>1.667708</td>\n",
       "      <td>1.006129</td>\n",
       "      <td>6.573084</td>\n",
       "    </tr>\n",
       "    <tr>\n",
       "      <th>4</th>\n",
       "      <td>1.763274</td>\n",
       "      <td>1.643068</td>\n",
       "      <td>1.159017</td>\n",
       "      <td>1.086585</td>\n",
       "      <td>1.467296</td>\n",
       "      <td>7.119241</td>\n",
       "    </tr>\n",
       "    <tr>\n",
       "      <th>5</th>\n",
       "      <td>1.648420</td>\n",
       "      <td>1.737102</td>\n",
       "      <td>1.451349</td>\n",
       "      <td>1.020206</td>\n",
       "      <td>1.519227</td>\n",
       "      <td>7.376304</td>\n",
       "    </tr>\n",
       "    <tr>\n",
       "      <th>6</th>\n",
       "      <td>1.059505</td>\n",
       "      <td>1.162661</td>\n",
       "      <td>1.627921</td>\n",
       "      <td>1.699104</td>\n",
       "      <td>1.469960</td>\n",
       "      <td>7.019151</td>\n",
       "    </tr>\n",
       "    <tr>\n",
       "      <th>7</th>\n",
       "      <td>1.337398</td>\n",
       "      <td>1.709978</td>\n",
       "      <td>1.560155</td>\n",
       "      <td>1.136855</td>\n",
       "      <td>1.335940</td>\n",
       "      <td>7.080326</td>\n",
       "    </tr>\n",
       "    <tr>\n",
       "      <th>8</th>\n",
       "      <td>1.627202</td>\n",
       "      <td>1.955734</td>\n",
       "      <td>1.382759</td>\n",
       "      <td>1.631348</td>\n",
       "      <td>1.239610</td>\n",
       "      <td>7.836655</td>\n",
       "    </tr>\n",
       "    <tr>\n",
       "      <th>9</th>\n",
       "      <td>1.036448</td>\n",
       "      <td>1.309579</td>\n",
       "      <td>1.944117</td>\n",
       "      <td>1.657244</td>\n",
       "      <td>1.677203</td>\n",
       "      <td>7.624591</td>\n",
       "    </tr>\n",
       "    <tr>\n",
       "      <th>10</th>\n",
       "      <td>1.681168</td>\n",
       "      <td>1.086856</td>\n",
       "      <td>1.247138</td>\n",
       "      <td>1.360536</td>\n",
       "      <td>1.580342</td>\n",
       "      <td>6.956040</td>\n",
       "    </tr>\n",
       "    <tr>\n",
       "      <th>11</th>\n",
       "      <td>1.692552</td>\n",
       "      <td>1.356933</td>\n",
       "      <td>1.064601</td>\n",
       "      <td>1.875374</td>\n",
       "      <td>1.760948</td>\n",
       "      <td>7.750408</td>\n",
       "    </tr>\n",
       "    <tr>\n",
       "      <th>12</th>\n",
       "      <td>1.963077</td>\n",
       "      <td>1.413945</td>\n",
       "      <td>1.337897</td>\n",
       "      <td>1.486183</td>\n",
       "      <td>1.390892</td>\n",
       "      <td>7.591995</td>\n",
       "    </tr>\n",
       "    <tr>\n",
       "      <th>13</th>\n",
       "      <td>1.602152</td>\n",
       "      <td>1.452358</td>\n",
       "      <td>1.883178</td>\n",
       "      <td>1.662353</td>\n",
       "      <td>1.507443</td>\n",
       "      <td>8.107484</td>\n",
       "    </tr>\n",
       "    <tr>\n",
       "      <th>14</th>\n",
       "      <td>1.035375</td>\n",
       "      <td>1.907594</td>\n",
       "      <td>1.853974</td>\n",
       "      <td>1.616969</td>\n",
       "      <td>1.504424</td>\n",
       "      <td>7.918337</td>\n",
       "    </tr>\n",
       "    <tr>\n",
       "      <th>15</th>\n",
       "      <td>1.142319</td>\n",
       "      <td>1.675563</td>\n",
       "      <td>1.369457</td>\n",
       "      <td>1.261330</td>\n",
       "      <td>1.291311</td>\n",
       "      <td>6.739981</td>\n",
       "    </tr>\n",
       "    <tr>\n",
       "      <th>16</th>\n",
       "      <td>1.213508</td>\n",
       "      <td>1.129770</td>\n",
       "      <td>1.826947</td>\n",
       "      <td>1.692314</td>\n",
       "      <td>1.416848</td>\n",
       "      <td>7.279388</td>\n",
       "    </tr>\n",
       "    <tr>\n",
       "      <th>17</th>\n",
       "      <td>1.033026</td>\n",
       "      <td>1.743473</td>\n",
       "      <td>1.919875</td>\n",
       "      <td>1.324936</td>\n",
       "      <td>1.221693</td>\n",
       "      <td>7.243002</td>\n",
       "    </tr>\n",
       "    <tr>\n",
       "      <th>18</th>\n",
       "      <td>1.290112</td>\n",
       "      <td>1.686918</td>\n",
       "      <td>1.527045</td>\n",
       "      <td>1.118537</td>\n",
       "      <td>1.675752</td>\n",
       "      <td>7.298364</td>\n",
       "    </tr>\n",
       "    <tr>\n",
       "      <th>19</th>\n",
       "      <td>1.931054</td>\n",
       "      <td>1.674825</td>\n",
       "      <td>1.884886</td>\n",
       "      <td>1.191390</td>\n",
       "      <td>1.583407</td>\n",
       "      <td>8.265561</td>\n",
       "    </tr>\n",
       "  </tbody>\n",
       "</table>\n",
       "</div>"
      ],
      "text/plain": [
       "           a         b         c         d         e         f\n",
       "0   1.436316  1.277407  1.754233  1.692173  1.063645  7.223774\n",
       "1   1.442789  1.270568  1.381000  1.137811  1.858550  7.090718\n",
       "2   1.044685  1.566909  1.377061  1.360828  1.978276  7.327758\n",
       "3   1.198679  1.529776  1.170792  1.667708  1.006129  6.573084\n",
       "4   1.763274  1.643068  1.159017  1.086585  1.467296  7.119241\n",
       "5   1.648420  1.737102  1.451349  1.020206  1.519227  7.376304\n",
       "6   1.059505  1.162661  1.627921  1.699104  1.469960  7.019151\n",
       "7   1.337398  1.709978  1.560155  1.136855  1.335940  7.080326\n",
       "8   1.627202  1.955734  1.382759  1.631348  1.239610  7.836655\n",
       "9   1.036448  1.309579  1.944117  1.657244  1.677203  7.624591\n",
       "10  1.681168  1.086856  1.247138  1.360536  1.580342  6.956040\n",
       "11  1.692552  1.356933  1.064601  1.875374  1.760948  7.750408\n",
       "12  1.963077  1.413945  1.337897  1.486183  1.390892  7.591995\n",
       "13  1.602152  1.452358  1.883178  1.662353  1.507443  8.107484\n",
       "14  1.035375  1.907594  1.853974  1.616969  1.504424  7.918337\n",
       "15  1.142319  1.675563  1.369457  1.261330  1.291311  6.739981\n",
       "16  1.213508  1.129770  1.826947  1.692314  1.416848  7.279388\n",
       "17  1.033026  1.743473  1.919875  1.324936  1.221693  7.243002\n",
       "18  1.290112  1.686918  1.527045  1.118537  1.675752  7.298364\n",
       "19  1.931054  1.674825  1.884886  1.191390  1.583407  8.265561"
      ]
     },
     "execution_count": 58,
     "metadata": {},
     "output_type": "execute_result"
    }
   ],
   "source": [
    "for index, row in df.iterrows():\n",
    "    df.loc[index, 'f'] = sum(row)\n",
    "\n",
    "df"
   ]
  },
  {
   "cell_type": "markdown",
   "metadata": {},
   "source": [
    "### Part 2 add column g to dataframe"
   ]
  },
  {
   "cell_type": "code",
   "execution_count": 59,
   "metadata": {},
   "outputs": [
    {
     "data": {
      "text/html": [
       "<div>\n",
       "<style scoped>\n",
       "    .dataframe tbody tr th:only-of-type {\n",
       "        vertical-align: middle;\n",
       "    }\n",
       "\n",
       "    .dataframe tbody tr th {\n",
       "        vertical-align: top;\n",
       "    }\n",
       "\n",
       "    .dataframe thead th {\n",
       "        text-align: right;\n",
       "    }\n",
       "</style>\n",
       "<table border=\"1\" class=\"dataframe\">\n",
       "  <thead>\n",
       "    <tr style=\"text-align: right;\">\n",
       "      <th></th>\n",
       "      <th>a</th>\n",
       "      <th>b</th>\n",
       "      <th>c</th>\n",
       "      <th>d</th>\n",
       "      <th>e</th>\n",
       "      <th>f</th>\n",
       "      <th>g</th>\n",
       "    </tr>\n",
       "  </thead>\n",
       "  <tbody>\n",
       "    <tr>\n",
       "      <th>0</th>\n",
       "      <td>1.436316</td>\n",
       "      <td>1.277407</td>\n",
       "      <td>1.754233</td>\n",
       "      <td>1.692173</td>\n",
       "      <td>1.063645</td>\n",
       "      <td>7.223774</td>\n",
       "      <td>LT8</td>\n",
       "    </tr>\n",
       "    <tr>\n",
       "      <th>1</th>\n",
       "      <td>1.442789</td>\n",
       "      <td>1.270568</td>\n",
       "      <td>1.381000</td>\n",
       "      <td>1.137811</td>\n",
       "      <td>1.858550</td>\n",
       "      <td>7.090718</td>\n",
       "      <td>LT8</td>\n",
       "    </tr>\n",
       "    <tr>\n",
       "      <th>2</th>\n",
       "      <td>1.044685</td>\n",
       "      <td>1.566909</td>\n",
       "      <td>1.377061</td>\n",
       "      <td>1.360828</td>\n",
       "      <td>1.978276</td>\n",
       "      <td>7.327758</td>\n",
       "      <td>LT8</td>\n",
       "    </tr>\n",
       "    <tr>\n",
       "      <th>3</th>\n",
       "      <td>1.198679</td>\n",
       "      <td>1.529776</td>\n",
       "      <td>1.170792</td>\n",
       "      <td>1.667708</td>\n",
       "      <td>1.006129</td>\n",
       "      <td>6.573084</td>\n",
       "      <td>LT8</td>\n",
       "    </tr>\n",
       "    <tr>\n",
       "      <th>4</th>\n",
       "      <td>1.763274</td>\n",
       "      <td>1.643068</td>\n",
       "      <td>1.159017</td>\n",
       "      <td>1.086585</td>\n",
       "      <td>1.467296</td>\n",
       "      <td>7.119241</td>\n",
       "      <td>LT8</td>\n",
       "    </tr>\n",
       "    <tr>\n",
       "      <th>5</th>\n",
       "      <td>1.648420</td>\n",
       "      <td>1.737102</td>\n",
       "      <td>1.451349</td>\n",
       "      <td>1.020206</td>\n",
       "      <td>1.519227</td>\n",
       "      <td>7.376304</td>\n",
       "      <td>LT8</td>\n",
       "    </tr>\n",
       "    <tr>\n",
       "      <th>6</th>\n",
       "      <td>1.059505</td>\n",
       "      <td>1.162661</td>\n",
       "      <td>1.627921</td>\n",
       "      <td>1.699104</td>\n",
       "      <td>1.469960</td>\n",
       "      <td>7.019151</td>\n",
       "      <td>LT8</td>\n",
       "    </tr>\n",
       "    <tr>\n",
       "      <th>7</th>\n",
       "      <td>1.337398</td>\n",
       "      <td>1.709978</td>\n",
       "      <td>1.560155</td>\n",
       "      <td>1.136855</td>\n",
       "      <td>1.335940</td>\n",
       "      <td>7.080326</td>\n",
       "      <td>LT8</td>\n",
       "    </tr>\n",
       "    <tr>\n",
       "      <th>8</th>\n",
       "      <td>1.627202</td>\n",
       "      <td>1.955734</td>\n",
       "      <td>1.382759</td>\n",
       "      <td>1.631348</td>\n",
       "      <td>1.239610</td>\n",
       "      <td>7.836655</td>\n",
       "      <td>LT8</td>\n",
       "    </tr>\n",
       "    <tr>\n",
       "      <th>9</th>\n",
       "      <td>1.036448</td>\n",
       "      <td>1.309579</td>\n",
       "      <td>1.944117</td>\n",
       "      <td>1.657244</td>\n",
       "      <td>1.677203</td>\n",
       "      <td>7.624591</td>\n",
       "      <td>LT8</td>\n",
       "    </tr>\n",
       "    <tr>\n",
       "      <th>10</th>\n",
       "      <td>1.681168</td>\n",
       "      <td>1.086856</td>\n",
       "      <td>1.247138</td>\n",
       "      <td>1.360536</td>\n",
       "      <td>1.580342</td>\n",
       "      <td>6.956040</td>\n",
       "      <td>LT8</td>\n",
       "    </tr>\n",
       "    <tr>\n",
       "      <th>11</th>\n",
       "      <td>1.692552</td>\n",
       "      <td>1.356933</td>\n",
       "      <td>1.064601</td>\n",
       "      <td>1.875374</td>\n",
       "      <td>1.760948</td>\n",
       "      <td>7.750408</td>\n",
       "      <td>LT8</td>\n",
       "    </tr>\n",
       "    <tr>\n",
       "      <th>12</th>\n",
       "      <td>1.963077</td>\n",
       "      <td>1.413945</td>\n",
       "      <td>1.337897</td>\n",
       "      <td>1.486183</td>\n",
       "      <td>1.390892</td>\n",
       "      <td>7.591995</td>\n",
       "      <td>LT8</td>\n",
       "    </tr>\n",
       "    <tr>\n",
       "      <th>13</th>\n",
       "      <td>1.602152</td>\n",
       "      <td>1.452358</td>\n",
       "      <td>1.883178</td>\n",
       "      <td>1.662353</td>\n",
       "      <td>1.507443</td>\n",
       "      <td>8.107484</td>\n",
       "      <td>GT8</td>\n",
       "    </tr>\n",
       "    <tr>\n",
       "      <th>14</th>\n",
       "      <td>1.035375</td>\n",
       "      <td>1.907594</td>\n",
       "      <td>1.853974</td>\n",
       "      <td>1.616969</td>\n",
       "      <td>1.504424</td>\n",
       "      <td>7.918337</td>\n",
       "      <td>LT8</td>\n",
       "    </tr>\n",
       "    <tr>\n",
       "      <th>15</th>\n",
       "      <td>1.142319</td>\n",
       "      <td>1.675563</td>\n",
       "      <td>1.369457</td>\n",
       "      <td>1.261330</td>\n",
       "      <td>1.291311</td>\n",
       "      <td>6.739981</td>\n",
       "      <td>LT8</td>\n",
       "    </tr>\n",
       "    <tr>\n",
       "      <th>16</th>\n",
       "      <td>1.213508</td>\n",
       "      <td>1.129770</td>\n",
       "      <td>1.826947</td>\n",
       "      <td>1.692314</td>\n",
       "      <td>1.416848</td>\n",
       "      <td>7.279388</td>\n",
       "      <td>LT8</td>\n",
       "    </tr>\n",
       "    <tr>\n",
       "      <th>17</th>\n",
       "      <td>1.033026</td>\n",
       "      <td>1.743473</td>\n",
       "      <td>1.919875</td>\n",
       "      <td>1.324936</td>\n",
       "      <td>1.221693</td>\n",
       "      <td>7.243002</td>\n",
       "      <td>LT8</td>\n",
       "    </tr>\n",
       "    <tr>\n",
       "      <th>18</th>\n",
       "      <td>1.290112</td>\n",
       "      <td>1.686918</td>\n",
       "      <td>1.527045</td>\n",
       "      <td>1.118537</td>\n",
       "      <td>1.675752</td>\n",
       "      <td>7.298364</td>\n",
       "      <td>LT8</td>\n",
       "    </tr>\n",
       "    <tr>\n",
       "      <th>19</th>\n",
       "      <td>1.931054</td>\n",
       "      <td>1.674825</td>\n",
       "      <td>1.884886</td>\n",
       "      <td>1.191390</td>\n",
       "      <td>1.583407</td>\n",
       "      <td>8.265561</td>\n",
       "      <td>GT8</td>\n",
       "    </tr>\n",
       "  </tbody>\n",
       "</table>\n",
       "</div>"
      ],
      "text/plain": [
       "           a         b         c         d         e         f    g\n",
       "0   1.436316  1.277407  1.754233  1.692173  1.063645  7.223774  LT8\n",
       "1   1.442789  1.270568  1.381000  1.137811  1.858550  7.090718  LT8\n",
       "2   1.044685  1.566909  1.377061  1.360828  1.978276  7.327758  LT8\n",
       "3   1.198679  1.529776  1.170792  1.667708  1.006129  6.573084  LT8\n",
       "4   1.763274  1.643068  1.159017  1.086585  1.467296  7.119241  LT8\n",
       "5   1.648420  1.737102  1.451349  1.020206  1.519227  7.376304  LT8\n",
       "6   1.059505  1.162661  1.627921  1.699104  1.469960  7.019151  LT8\n",
       "7   1.337398  1.709978  1.560155  1.136855  1.335940  7.080326  LT8\n",
       "8   1.627202  1.955734  1.382759  1.631348  1.239610  7.836655  LT8\n",
       "9   1.036448  1.309579  1.944117  1.657244  1.677203  7.624591  LT8\n",
       "10  1.681168  1.086856  1.247138  1.360536  1.580342  6.956040  LT8\n",
       "11  1.692552  1.356933  1.064601  1.875374  1.760948  7.750408  LT8\n",
       "12  1.963077  1.413945  1.337897  1.486183  1.390892  7.591995  LT8\n",
       "13  1.602152  1.452358  1.883178  1.662353  1.507443  8.107484  GT8\n",
       "14  1.035375  1.907594  1.853974  1.616969  1.504424  7.918337  LT8\n",
       "15  1.142319  1.675563  1.369457  1.261330  1.291311  6.739981  LT8\n",
       "16  1.213508  1.129770  1.826947  1.692314  1.416848  7.279388  LT8\n",
       "17  1.033026  1.743473  1.919875  1.324936  1.221693  7.243002  LT8\n",
       "18  1.290112  1.686918  1.527045  1.118537  1.675752  7.298364  LT8\n",
       "19  1.931054  1.674825  1.884886  1.191390  1.583407  8.265561  GT8"
      ]
     },
     "execution_count": 59,
     "metadata": {},
     "output_type": "execute_result"
    }
   ],
   "source": [
    "for index, row in df.iterrows():\n",
    "    df.loc[index, 'g'] = 'LT8' if row[5]<8 else 'GT8'\n",
    "\n",
    "df"
   ]
  },
  {
   "cell_type": "markdown",
   "metadata": {},
   "source": [
    "### Part 3 find number of rows with g == 'GT8'"
   ]
  },
  {
   "cell_type": "code",
   "execution_count": 61,
   "metadata": {},
   "outputs": [
    {
     "data": {
      "text/plain": [
       "LT8    18\n",
       "GT8     2\n",
       "Name: g, dtype: int64"
      ]
     },
     "execution_count": 61,
     "metadata": {},
     "output_type": "execute_result"
    }
   ],
   "source": [
    "df['g'].value_counts()"
   ]
  },
  {
   "cell_type": "markdown",
   "metadata": {},
   "source": [
    "### Part 4 find std deviation of f where g == 'GT8' and g == 'LT8'"
   ]
  },
  {
   "cell_type": "code",
   "execution_count": 62,
   "metadata": {},
   "outputs": [
    {
     "name": "stdout",
     "output_type": "stream",
     "text": [
      "Standard deviation of 'f' where 'g' is 'LT8': 0.36275160902047565\n",
      "Standard deviation of 'f' where 'g' is 'GT8': 0.1117771272741652\n"
     ]
    }
   ],
   "source": [
    "std_dev_LT8 = df[df['g'] == 'LT8']['f'].std()\n",
    "\n",
    "# Standard deviation of 'f' where 'g' is 'GT8'\n",
    "std_dev_GT8 = df[df['g'] == 'GT8']['f'].std()\n",
    "\n",
    "print(f\"Standard deviation of 'f' where 'g' is 'LT8': {std_dev_LT8}\")\n",
    "print(f\"Standard deviation of 'f' where 'g' is 'GT8': {std_dev_GT8}\")"
   ]
  },
  {
   "cell_type": "markdown",
   "metadata": {},
   "source": [
    "## **Question 12**"
   ]
  },
  {
   "cell_type": "code",
   "execution_count": 67,
   "metadata": {},
   "outputs": [],
   "source": [
    "import numpy as np"
   ]
  },
  {
   "cell_type": "code",
   "execution_count": 69,
   "metadata": {},
   "outputs": [
    {
     "name": "stdout",
     "output_type": "stream",
     "text": [
      "Matrix:\n",
      "[[1 2 3]\n",
      " [4 5 6]]\n",
      "\n",
      "Scalar:\n",
      "2\n",
      "\n",
      "Result after Broadcasting Division:\n",
      "[[0.5 1.  1.5]\n",
      " [2.  2.5 3. ]]\n"
     ]
    }
   ],
   "source": [
    "matrix = np.array([[1, 2, 3],\n",
    "                   [4, 5, 6]])\n",
    "scalar = 2\n",
    "\n",
    "# Multiply the matrix by the scalar using broadcasting\n",
    "result = matrix / scalar\n",
    "\n",
    "print(\"Matrix:\")\n",
    "print(matrix)\n",
    "print(\"\\nScalar:\")\n",
    "print(scalar)\n",
    "print(\"\\nResult after Broadcasting Division:\")\n",
    "print(result)\n"
   ]
  },
  {
   "cell_type": "markdown",
   "metadata": {},
   "source": [
    "## Question 13"
   ]
  },
  {
   "cell_type": "markdown",
   "metadata": {},
   "source": [
    "### Write equivalent function to np.argmin"
   ]
  },
  {
   "cell_type": "code",
   "execution_count": null,
   "metadata": {},
   "outputs": [],
   "source": [
    "def findIndexOfMinValue(arr: np.array):\n",
    "    from sys import maxsize\n",
    "    min_index=0\n",
    "    min_value=maxsize\n",
    "    temp_min_index=0\n",
    "    shape=arr.shape\n",
    "    temp=arr.reshape(1,arr.size)[0]\n",
    "    for i in range(arr.size):\n",
    "        if temp[i]<min_value:\n",
    "            min_value=temp[i]\n",
    "            temp_min_index=i\n",
    "    original_coordinates = []\n",
    "    for dim in reversed(shape):\n",
    "        original_coordinates.append(temp_min_index % dim)\n",
    "        temp_min_index //= dim\n",
    "\n",
    "    # Reverse the coordinates to get them in the correct order\n",
    "    min_index = original_coordinates[::-1]\n",
    "\n",
    "    print(f\"Original coordinates of min value: {min_index}\")\n"
   ]
  },
  {
   "cell_type": "code",
   "execution_count": 66,
   "metadata": {},
   "outputs": [
    {
     "name": "stdout",
     "output_type": "stream",
     "text": [
      "(2, 3, 3)\n"
     ]
    },
    {
     "data": {
      "text/plain": [
       "array([[[9, 5, 2],\n",
       "        [4, 6, 7],\n",
       "        [2, 8, 2]],\n",
       "\n",
       "       [[9, 5, 2],\n",
       "        [4, 6, 7],\n",
       "        [1, 8, 2]]])"
      ]
     },
     "execution_count": 66,
     "metadata": {},
     "output_type": "execute_result"
    }
   ],
   "source": [
    "arr=np.array([[[9,5,2],\n",
    "                    [4,6,7],\n",
    "                    [2,8,2]],\n",
    "                    [[9,5,2],\n",
    "                    [4,6,7],\n",
    "                    [1,8,2]]])\n",
    "print(arr.shape)\n",
    "arr"
   ]
  },
  {
   "cell_type": "code",
   "execution_count": 13,
   "metadata": {},
   "outputs": [
    {
     "name": "stdout",
     "output_type": "stream",
     "text": [
      "Original coordinates of min value: [1, 2, 0]\n"
     ]
    }
   ],
   "source": [
    "findIndexOfMinValue(arr)"
   ]
  },
  {
   "cell_type": "code",
   "execution_count": null,
   "metadata": {},
   "outputs": [],
   "source": []
  }
 ],
 "metadata": {
  "colab": {
   "provenance": []
  },
  "kernelspec": {
   "display_name": "Python 3 (ipykernel)",
   "language": "python",
   "name": "python3"
  },
  "language_info": {
   "codemirror_mode": {
    "name": "ipython",
    "version": 3
   },
   "file_extension": ".py",
   "mimetype": "text/x-python",
   "name": "python",
   "nbconvert_exporter": "python",
   "pygments_lexer": "ipython3",
   "version": "3.11.7"
  }
 },
 "nbformat": 4,
 "nbformat_minor": 4
}
